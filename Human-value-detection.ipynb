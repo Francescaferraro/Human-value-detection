{
 "cells": [
  {
   "cell_type": "code",
   "execution_count": 1,
   "id": "0ecedca1-975c-4d02-a5b7-aa2b7bd396e8",
   "metadata": {},
   "outputs": [],
   "source": [
    "import pandas as pd\n",
    "import transformers\n",
    "import torch\n",
    "from transformers import pipeline\n",
    "import string\n",
    "\n",
    "from valuemap.models import Model, MultiModel\n",
    "from valuemap.values import ValueMap, ValueSearch"
   ]
  },
  {
   "cell_type": "code",
   "execution_count": 2,
   "id": "c3a9d012-07a3-47fb-aad4-e062586cbc40",
   "metadata": {},
   "outputs": [],
   "source": [
    "def load_dataset():\n",
    "    # Load the dataset into separate DataFrames for each split\n",
    "    df_training = pd.read_csv('arguments-training.tsv', delimiter='\\t')\n",
    "    df_validation = pd.read_csv('arguments-validation.tsv', delimiter='\\t')\n",
    "    df_test = pd.read_csv('arguments-test.tsv', delimiter='\\t')\n",
    "\n",
    "    # Concatenate all the dataframes\n",
    "    df = pd.concat([df_training, df_validation, df_test])\n",
    "\n",
    "    # Extract the argument text from each DataFrame\n",
    "    arguments = df['Premise'].tolist()\n",
    "    stances = df['Stance'].tolist()\n",
    "    conclusions = df['Conclusion'].tolist()\n",
    "\n",
    "    return arguments, stances, conclusions"
   ]
  },
  {
   "cell_type": "code",
   "execution_count": 3,
   "id": "c4805330-92ed-404d-880e-c944152b0436",
   "metadata": {},
   "outputs": [],
   "source": [
    "def process_sentences(sentences):\n",
    "    processed = []\n",
    "    for sentence in sentences:\n",
    "        # Remove punctuation\n",
    "        sentence = sentence.translate(str.maketrans('', '', string.punctuation))\n",
    "        # Convert to lowercase\n",
    "        sentence = sentence.lower()\n",
    "        processed.append(sentence)\n",
    "    return processed"
   ]
  },
  {
   "cell_type": "code",
   "execution_count": 4,
   "id": "8cff5be1-396e-4f70-8b4a-fa89e5125a5e",
   "metadata": {},
   "outputs": [
    {
     "name": "stderr",
     "output_type": "stream",
     "text": [
      "Some weights of the model checkpoint at bert-base-uncased were not used when initializing BertForMaskedLM: ['bert.pooler.dense.weight', 'bert.pooler.dense.bias', 'cls.seq_relationship.bias', 'cls.seq_relationship.weight']\n",
      "- This IS expected if you are initializing BertForMaskedLM from the checkpoint of a model trained on another task or with another architecture (e.g. initializing a BertForSequenceClassification model from a BertForPreTraining model).\n",
      "- This IS NOT expected if you are initializing BertForMaskedLM from the checkpoint of a model that you expect to be exactly identical (initializing a BertForSequenceClassification model from a BertForSequenceClassification model).\n"
     ]
    }
   ],
   "source": [
    "# model inizialization\n",
    "model_bert = pipeline('fill-mask', model='bert-base-uncased') # Bert"
   ]
  },
  {
   "cell_type": "code",
   "execution_count": 5,
   "id": "0d1d7350-29d8-4524-b404-c678492e2e7c",
   "metadata": {},
   "outputs": [],
   "source": [
    "# Load dataset\n",
    "arguments, stances, conclusions = load_dataset()\n",
    "\n",
    "# Preprocess premise and conclusion\n",
    "arguments = process_sentences(arguments)\n",
    "conclusions = process_sentences(conclusions)"
   ]
  },
  {
   "cell_type": "code",
   "execution_count": 6,
   "id": "4f446467-1209-42f5-9398-9c82e6a0caa5",
   "metadata": {},
   "outputs": [],
   "source": [
    "# Map each argument to the corresponding stance and conclusion\n",
    "if len(arguments) != len(stances) or len(arguments) != len(conclusions):\n",
    "    print(\"Error: incompatible data\")\n",
    "else:\n",
    "    input = {}\n",
    "    for i in range(len(arguments)):\n",
    "        input[arguments[i]] = (stances[i], conclusions[i])"
   ]
  },
  {
   "cell_type": "code",
   "execution_count": 14,
   "id": "31920465-84e1-4429-8b46-993ec3817cc8",
   "metadata": {},
   "outputs": [],
   "source": [
    "import random\n",
    "\n",
    "# Random argument selection\n",
    "input_argument = random.choice(list(input.keys()))\n",
    "\n",
    "argument = input_argument\n",
    "stance = input[input_argument][0]\n",
    "conclusion = input[input_argument][1]"
   ]
  },
  {
   "cell_type": "code",
   "execution_count": 15,
   "id": "11e667fd-942f-49f8-bacc-6aaa1bb39f94",
   "metadata": {},
   "outputs": [],
   "source": [
    "def generate_word(model) :\n",
    "    # Create prompt \n",
    "    prompt = f\"i am {stance} the fact that {conclusion} because i think that {argument}. i am a {model.tokenizer.mask_token}.\"\n",
    "    # Generate filling\n",
    "    output = model(prompt)\n",
    "\n",
    "    # Sort output by 'score'\n",
    "    output.sort(key=lambda x: x['score'], reverse=True)\n",
    "    \n",
    "    # Extract 'sequence' with higher 'score'\n",
    "    description = output[0]['sequence']\n",
    "    \n",
    "    return description"
   ]
  },
  {
   "cell_type": "code",
   "execution_count": 16,
   "id": "ffbd0c61-4f40-4717-8710-b16dd2df2579",
   "metadata": {},
   "outputs": [
    {
     "name": "stdout",
     "output_type": "stream",
     "text": [
      "i am in favor of the fact that we should abolish capital punishment because i think that the death penalty is an oldfashioned outdated inhumane practice and must be abolished. i am a conservative.\n"
     ]
    }
   ],
   "source": [
    "description_bert = generate_word(model_bert)\n",
    "print(description_bert)"
   ]
  },
  {
   "cell_type": "code",
   "execution_count": null,
   "id": "2aa7b12f-11ce-4946-a2fc-68c9375e6579",
   "metadata": {},
   "outputs": [],
   "source": []
  },
  {
   "cell_type": "code",
   "execution_count": null,
   "id": "d5cebb2c-e164-4c8e-b607-80bc33876e04",
   "metadata": {},
   "outputs": [],
   "source": []
  },
  {
   "cell_type": "code",
   "execution_count": null,
   "id": "25d17414-040f-422f-8fea-f143a3a11e4f",
   "metadata": {},
   "outputs": [],
   "source": []
  }
 ],
 "metadata": {
  "kernelspec": {
   "display_name": "Python 3 (ipykernel)",
   "language": "python",
   "name": "python3"
  },
  "language_info": {
   "codemirror_mode": {
    "name": "ipython",
    "version": 3
   },
   "file_extension": ".py",
   "mimetype": "text/x-python",
   "name": "python",
   "nbconvert_exporter": "python",
   "pygments_lexer": "ipython3",
   "version": "3.9.16"
  }
 },
 "nbformat": 4,
 "nbformat_minor": 5
}
