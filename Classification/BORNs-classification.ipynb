{
 "cells": [
  {
   "cell_type": "code",
   "execution_count": 14,
   "id": "0ecedca1-975c-4d02-a5b7-aa2b7bd396e8",
   "metadata": {},
   "outputs": [],
   "source": [
    "import pandas as pd\n",
    "import matplotlib.pyplot as plt\n",
    "import numpy as np\n",
    "import transformers\n",
    "import torch\n",
    "from transformers import pipeline\n",
    "import string\n",
    "from transformers import BertTokenizer, BertForMaskedLM\n",
    "import statistics\n",
    "import keras\n",
    "import re\n",
    "\n",
    "from collections import defaultdict, Counter\n",
    "from sklearn.feature_extraction.text import CountVectorizer\n",
    "\n",
    "from valuemap.models import Model, MultiModel\n",
    "from valuemap.values import ValueMap, ValueSearch\n",
    "from sklearn.metrics.pairwise import cosine_similarity\n",
    "#from gensim.models import KeyedVectors\n",
    "from sklearn.metrics import f1_score, accuracy_score, precision_score, recall_score\n",
    "# Import the human values from values.py labels\n",
    "from valuemap.values import VALUE_LABELS\n",
    "\n",
    "from sklearn.feature_extraction.text import CountVectorizer\n",
    "from keras.utils import to_categorical\n",
    "from bornrule import BornClassifier\n",
    "from nltk.corpus import stopwords\n",
    "from nltk.stem import WordNetLemmatizer\n",
    "from bornrule import BornClassifier"
   ]
  },
  {
   "cell_type": "code",
   "execution_count": 15,
   "id": "514edd19-dd7f-4442-a64d-a72aeb49c56e",
   "metadata": {},
   "outputs": [],
   "source": [
    "def load_traintest_dataset(group):\n",
    "    # Load the arguments and labels into separate DataFrames\n",
    "    df_arguments = pd.read_csv('arguments-'+group+'.tsv', delimiter='\\t')\n",
    "    df_labels = pd.read_csv('labels-'+group+'.tsv', delimiter='\\t')\n",
    "\n",
    "    # Merge the two DataFrames on the 'Argument ID' column\n",
    "    df = pd.merge(df_arguments, df_labels, on='Argument ID')\n",
    "\n",
    "    # Extract the argument text from each DataFrame\n",
    "    id = df_arguments['Argument ID'].tolist()\n",
    "    arguments = df_arguments['Premise'].tolist()\n",
    "    stances = df_arguments['Stance'].tolist()\n",
    "    conclusions = df_arguments['Conclusion'].tolist()\n",
    "\n",
    "    return arguments, stances, conclusions, id, df, df_labels"
   ]
  },
  {
   "cell_type": "code",
   "execution_count": 16,
   "id": "8a6a0f23-06aa-4554-97b9-e5a0ee419afa",
   "metadata": {},
   "outputs": [],
   "source": [
    "labels_training = load_traintest_dataset(\"training\")[5]\n",
    "labels_test = load_traintest_dataset(\"test\")[5]"
   ]
  },
  {
   "cell_type": "code",
   "execution_count": 17,
   "id": "a9d391ef-fa54-45a9-9365-c0dddb650cfb",
   "metadata": {},
   "outputs": [],
   "source": [
    "# Load training dataset\n",
    "arguments_training, stances_training, conclusions_training, id_training, df_training, df_labels = load_traintest_dataset(\"training\")\n",
    "\n",
    "# Load test dataset\n",
    "arguments_test, stances_test, conclusions_test, id_test, df_test, df_labels = load_traintest_dataset(\"test\")"
   ]
  },
  {
   "cell_type": "code",
   "execution_count": 18,
   "id": "87acaa62-bef4-4e5e-b20b-115d0b68bb85",
   "metadata": {},
   "outputs": [],
   "source": [
    "# Preprocessing function\n",
    "def preprocess_text(text):\n",
    "    # Lowercase the text\n",
    "    text = text.lower()\n",
    "    # Remove punctuation\n",
    "    text = re.sub(r'[^\\w\\s]', '', text)\n",
    "    # Remove numbers\n",
    "    text = re.sub(r'\\d+', '', text)\n",
    "    \n",
    "    # Lemmatization\n",
    "    lemmatizer = WordNetLemmatizer()\n",
    "    words = text.split()\n",
    "    words = [lemmatizer.lemmatize(word) for word in words]\n",
    "    text = ' '.join(words)\n",
    "    return text"
   ]
  },
  {
   "cell_type": "code",
   "execution_count": 38,
   "id": "32ebc9f9-2f3f-4e69-aaf3-59b32af23e4e",
   "metadata": {},
   "outputs": [],
   "source": []
  },
  {
   "cell_type": "code",
   "execution_count": 39,
   "id": "6868c55e-cf43-4b90-929d-8cb155f6e1e2",
   "metadata": {},
   "outputs": [],
   "source": [
    "def important_words(classifier, vectorizer, expanded_text):\n",
    "    global_weights = classifier.explain()\n",
    "    \n",
    "    feature_names = vectorizer.get_feature_names_out()\n",
    "    \n",
    "    # Dictionary with weights and feature names\n",
    "    feature_weights = dict(zip(feature_names, global_weights))\n",
    "    \n",
    "    # Average absolute value for each matrix\n",
    "    feature_weights_abs_avg = {word: np.abs(matrix).mean() for word, matrix in feature_weights.items()}\n",
    "    \n",
    "    # Sorted dictionary\n",
    "    sorted_features = sorted(feature_weights_abs_avg.items(), key=lambda x: x[1], reverse=True)\n",
    "    \n",
    "    # Most important words\n",
    "    for word, weight in sorted_features[:100]:\n",
    "        print(f\"Word: {word}, Weight: {weight}\")\n",
    "\n",
    "    added_words_weights = {}\n",
    "    if len(expanded_text) != 0 :\n",
    "        added_words = [text.split()[-1] for text in expanded_text]\n",
    "        for word in added_words:\n",
    "            if word in feature_weights_abs_avg and word not in added_words_weights:\n",
    "                added_words_weights[word] = feature_weights_abs_avg[word]\n",
    "        sorted_added_words = sorted(added_words_weights.items(), key=lambda x: x[1], reverse=True)\n",
    "\n",
    "        return sorted_added_words"
   ]
  },
  {
   "cell_type": "code",
   "execution_count": 40,
   "id": "6d51375d-f18a-4790-a29b-4f088cb31d3b",
   "metadata": {},
   "outputs": [],
   "source": [
    "def print_and_plot_word_weights(word_weights):\n",
    "    words, weights = zip(*word_weights)\n",
    "    for word, weight in word_weights:\n",
    "        print(f\"Added word: {word}, Weight: {weight}\")\n",
    "    \n",
    "    plt.barh(words, weights, color='skyblue')\n",
    "    plt.xlabel('Importance')\n",
    "    plt.title('Added Word Weights')\n",
    "    plt.gca().invert_yaxis()\n",
    "    plt.show()"
   ]
  },
  {
   "cell_type": "code",
   "execution_count": null,
   "id": "b59441aa-8da0-44cd-8c1a-5dfb7751ee7d",
   "metadata": {},
   "outputs": [],
   "source": [
    "classifier_original = classification(\"arguments-test.tsv\", \"arguments-training.tsv\", [\"Conclusion\", \"Stance\", \"Premise\"])"
   ]
  },
  {
   "cell_type": "code",
   "execution_count": 23,
   "id": "7efb9a99-269d-46d9-a0f8-65e1861fb2d6",
   "metadata": {},
   "outputs": [],
   "source": [
    "f1_original = classifier_original[2]\n",
    "precision_original = classifier_original[3]\n",
    "recall_original = classifier_original[4]"
   ]
  },
  {
   "cell_type": "code",
   "execution_count": 24,
   "id": "6ab8a101-106d-4164-9151-597e6ce332fd",
   "metadata": {
    "scrolled": true
   },
   "outputs": [
    {
     "name": "stdout",
     "output_type": "stream",
     "text": [
      "Word: zoo, Weight: 0.01260020741623353\n",
      "Word: animal, Weight: 0.010339076306428078\n",
      "Word: telemarketing, Weight: 0.008719924931736537\n",
      "Word: language, Weight: 0.00865957829588522\n",
      "Word: genderneutral, Weight: 0.008521020998747046\n",
      "Word: surgery, Weight: 0.008046705935299419\n",
      "Word: whaling, Weight: 0.007800343034723991\n",
      "Word: cosmetic, Weight: 0.007728251679606167\n",
      "Word: trading, Weight: 0.007315412263788901\n",
      "Word: prayer, Weight: 0.007042545268029038\n",
      "Word: algorithmic, Weight: 0.006806425883559182\n",
      "Word: executive, Weight: 0.006666466665826964\n",
      "Word: cannabis, Weight: 0.006357175824389416\n",
      "Word: farming, Weight: 0.006204976777594849\n",
      "Word: nuclear, Weight: 0.0061289258601046875\n",
      "Word: factory, Weight: 0.006125049450441532\n",
      "Word: compensation, Weight: 0.0060863535318488055\n",
      "Word: fast, Weight: 0.005968238808303224\n",
      "Word: weapon, Weight: 0.005891500614868904\n",
      "Word: parade, Weight: 0.005866567214918911\n",
      "Word: religion, Weight: 0.005861824577931106\n",
      "Word: retirement, Weight: 0.005829298813383483\n",
      "Word: austerity, Weight: 0.0056220315109331755\n",
      "Word: killing, Weight: 0.00559058156311639\n",
      "Word: targeted, Weight: 0.005573881976334494\n",
      "Word: pride, Weight: 0.005445773096452481\n",
      "Word: voting, Weight: 0.00541022848995166\n",
      "Word: whale, Weight: 0.0053331198842840434\n",
      "Word: atheism, Weight: 0.00531945722056505\n",
      "Word: regime, Weight: 0.005284074752017374\n",
      "Word: property, Weight: 0.005275929611819718\n",
      "Word: specie, Weight: 0.005264169853886723\n",
      "Word: intellectual, Weight: 0.0052401243247056474\n",
      "Word: selection, Weight: 0.005231777017090015\n",
      "Word: prohibit, Weight: 0.005227107078935357\n",
      "Word: compulsory, Weight: 0.005169509242410232\n",
      "Word: food, Weight: 0.005155226146568428\n",
      "Word: mandatory, Weight: 0.005151089265368154\n",
      "Word: cruel, Weight: 0.005045497249567523\n",
      "Word: sanction, Weight: 0.00494367058895577\n",
      "Word: military, Weight: 0.004913923370420254\n",
      "Word: church, Weight: 0.00485032416648032\n",
      "Word: game, Weight: 0.004776176402479735\n",
      "Word: olympic, Weight: 0.0047089072492721325\n",
      "Word: journalism, Weight: 0.004689968951656404\n",
      "Word: economic, Weight: 0.004666151511740644\n",
      "Word: law, Weight: 0.0045731469868121434\n",
      "Word: wikipedia, Weight: 0.004568377159334249\n",
      "Word: exploration, Weight: 0.004542698749516559\n",
      "Word: punishment, Weight: 0.004506761431421965\n",
      "Word: abolition, Weight: 0.004467670743631499\n",
      "Word: threestrikes, Weight: 0.004462583738355813\n",
      "Word: gender, Weight: 0.004394789693525316\n",
      "Word: scientology, Weight: 0.0043880715711773375\n",
      "Word: freedom, Weight: 0.004358110584642782\n",
      "Word: capital, Weight: 0.00432421650645553\n",
      "Word: multiparty, Weight: 0.004312787720220765\n",
      "Word: bear, Weight: 0.004297017591500147\n",
      "Word: arm, Weight: 0.0042930548557000275\n",
      "Word: cancel, Weight: 0.004278228229517721\n",
      "Word: introduce, Weight: 0.0042781684041846135\n",
      "Word: loan, Weight: 0.00419754865740813\n",
      "Word: sex, Weight: 0.004191836522387523\n",
      "Word: fight, Weight: 0.004175790796860029\n",
      "Word: actor, Weight: 0.004151327803204833\n",
      "Word: crime, Weight: 0.004105093289050011\n",
      "Word: school, Weight: 0.004076960792654341\n",
      "Word: minor, Weight: 0.004072414399420748\n",
      "Word: company, Weight: 0.003962521197006765\n",
      "Word: god, Weight: 0.003913022324899165\n",
      "Word: cloning, Weight: 0.003900625545802501\n",
      "Word: judicial, Weight: 0.0038987235913300034\n",
      "Word: nuisance, Weight: 0.003884735369764106\n",
      "Word: natural, Weight: 0.003839689951575618\n",
      "Word: system, Weight: 0.0038018105493216386\n",
      "Word: activism, Weight: 0.003780193657855463\n",
      "Word: wild, Weight: 0.003766874626463986\n",
      "Word: endangered, Weight: 0.0037393165065463885\n",
      "Word: call, Weight: 0.0037377177106791234\n",
      "Word: private, Weight: 0.003673676233896697\n",
      "Word: inhumane, Weight: 0.0036598877268429466\n",
      "Word: money, Weight: 0.0035762230329119634\n",
      "Word: prostitution, Weight: 0.0035739815201612235\n",
      "Word: organ, Weight: 0.003566039504348313\n",
      "Word: child, Weight: 0.00354825728745702\n",
      "Word: extinction, Weight: 0.0035359609049108788\n",
      "Word: missionary, Weight: 0.0035085717430613354\n",
      "Word: annoying, Weight: 0.003506693877064728\n",
      "Word: nature, Weight: 0.0034711397010861096\n",
      "Word: extinct, Weight: 0.0034409737906808888\n",
      "Word: safe, Weight: 0.00343556243456314\n",
      "Word: uniform, Weight: 0.0034213083911780254\n",
      "Word: subsidize, Weight: 0.0033921874981982215\n",
      "Word: offended, Weight: 0.0033703198058044567\n",
      "Word: believe, Weight: 0.0033533184806353146\n",
      "Word: intrusive, Weight: 0.0033451133731043836\n",
      "Word: belief, Weight: 0.0032851354911472993\n",
      "Word: telemarketers, Weight: 0.003263095273314218\n",
      "Word: esteem, Weight: 0.0032562650107781565\n",
      "Word: religious, Weight: 0.003236082481633733\n"
     ]
    }
   ],
   "source": [
    "important_words(classifier_original[0], classifier_original[1], [])"
   ]
  },
  {
   "cell_type": "code",
   "execution_count": null,
   "id": "4560a9fe-2495-4f59-9d89-a7caedadf3b0",
   "metadata": {},
   "outputs": [],
   "source": [
    "classifier_expanded = classification(\"HVD-expanded_dataset_test.tsv\", \"HVD-expanded_dataset_training.tsv\", [\"EXPANDED TEXT\"])"
   ]
  },
  {
   "cell_type": "code",
   "execution_count": 26,
   "id": "ea316973-187d-487e-945b-f13c03025151",
   "metadata": {},
   "outputs": [],
   "source": [
    "f1_expanded = classifier_expanded[2]\n",
    "precision_expanded = classifier_expanded[3]\n",
    "recall_expanded = classifier_expanded[4]"
   ]
  },
  {
   "cell_type": "code",
   "execution_count": 27,
   "id": "11c1acde-6f56-4f6e-94fd-095950b73897",
   "metadata": {
    "scrolled": true
   },
   "outputs": [
    {
     "name": "stdout",
     "output_type": "stream",
     "text": [
      "Word: zoo, Weight: 0.010503140164865518\n",
      "Word: animal, Weight: 0.008687804088393727\n",
      "Word: telemarketing, Weight: 0.007321709250138616\n",
      "Word: language, Weight: 0.007228904440033423\n",
      "Word: genderneutral, Weight: 0.007150246903481467\n",
      "Word: surgery, Weight: 0.006728677536350372\n",
      "Word: whaling, Weight: 0.006433265561831512\n",
      "Word: cosmetic, Weight: 0.006426472383939072\n",
      "Word: trading, Weight: 0.006129982978600867\n",
      "Word: prayer, Weight: 0.0060007409179791745\n",
      "Word: algorithmic, Weight: 0.005725762679931968\n",
      "Word: executive, Weight: 0.005610433537340092\n",
      "Word: vegetarian, Weight: 0.00533274317160781\n",
      "Word: nuclear, Weight: 0.005269796384063814\n",
      "Word: cannabis, Weight: 0.005267796637967386\n",
      "Word: farming, Weight: 0.005216614726514234\n",
      "Word: factory, Weight: 0.0051235584427389725\n",
      "Word: compensation, Weight: 0.005122257169018188\n",
      "Word: weapon, Weight: 0.005066850570958667\n",
      "Word: retirement, Weight: 0.0050418498134506265\n",
      "Word: religion, Weight: 0.004960596439708389\n",
      "Word: fast, Weight: 0.0049257420038125695\n",
      "Word: parade, Weight: 0.004898058473438506\n",
      "Word: austerity, Weight: 0.004811407595493796\n",
      "Word: killing, Weight: 0.004705529844957838\n",
      "Word: targeted, Weight: 0.0046826912464316955\n",
      "Word: pride, Weight: 0.00454623266987004\n",
      "Word: regime, Weight: 0.0045209193349888795\n",
      "Word: voting, Weight: 0.004496616236405292\n",
      "Word: property, Weight: 0.004443633354318835\n",
      "Word: intellectual, Weight: 0.004428361942856665\n",
      "Word: whale, Weight: 0.004419412664742224\n",
      "Word: mandatory, Weight: 0.004417058997763092\n",
      "Word: atheism, Weight: 0.004407543587013797\n",
      "Word: specie, Weight: 0.0043950339072338675\n",
      "Word: prohibit, Weight: 0.0043783310482375425\n",
      "Word: compulsory, Weight: 0.004283478735323776\n",
      "Word: selection, Weight: 0.004268654331091842\n",
      "Word: food, Weight: 0.0042425892636393766\n",
      "Word: cruel, Weight: 0.004237861154307308\n",
      "Word: military, Weight: 0.0041891485894726705\n",
      "Word: church, Weight: 0.004188064886818447\n",
      "Word: sanction, Weight: 0.004167937541529564\n",
      "Word: game, Weight: 0.0040014331033269585\n",
      "Word: olympic, Weight: 0.003942330852719009\n",
      "Word: economic, Weight: 0.003924286748236384\n",
      "Word: law, Weight: 0.003905953477131039\n",
      "Word: exploration, Weight: 0.0038524061367522975\n",
      "Word: journalism, Weight: 0.0038475407580462876\n",
      "Word: abolition, Weight: 0.0038265705175152993\n",
      "Word: wikipedia, Weight: 0.0037949920230239942\n",
      "Word: threestrikes, Weight: 0.003781344827868962\n",
      "Word: scientology, Weight: 0.0037791532700409925\n",
      "Word: bear, Weight: 0.003773599509297904\n",
      "Word: arm, Weight: 0.003765116043425778\n",
      "Word: punishment, Weight: 0.003745136909574924\n",
      "Word: gender, Weight: 0.0037405377590236507\n",
      "Word: christian, Weight: 0.0037244873669404835\n",
      "Word: actor, Weight: 0.0036358551141215294\n",
      "Word: loan, Weight: 0.0036153333045964068\n",
      "Word: multiparty, Weight: 0.0036066718419296693\n",
      "Word: capital, Weight: 0.0035984294392868666\n",
      "Word: freedom, Weight: 0.0035942603994936297\n",
      "Word: cancel, Weight: 0.003580512406405114\n",
      "Word: minor, Weight: 0.0035556768180732765\n",
      "Word: fight, Weight: 0.0035491916687493074\n",
      "Word: introduce, Weight: 0.0035367774699149685\n",
      "Word: school, Weight: 0.003488964578270591\n",
      "Word: crime, Weight: 0.0034670417793943296\n",
      "Word: sex, Weight: 0.003425683768610163\n",
      "Word: company, Weight: 0.0032871949872247176\n",
      "Word: judicial, Weight: 0.003285176830880304\n",
      "Word: natural, Weight: 0.0032661771116071483\n",
      "Word: nuisance, Weight: 0.003265880824864023\n",
      "Word: wild, Weight: 0.0032546614568327386\n",
      "Word: god, Weight: 0.0032538912618469197\n",
      "Word: cloning, Weight: 0.003218007865160568\n",
      "Word: call, Weight: 0.003215148986590181\n",
      "Word: activism, Weight: 0.0031883632206332136\n",
      "Word: child, Weight: 0.003113514715483633\n",
      "Word: system, Weight: 0.003100939453483603\n",
      "Word: private, Weight: 0.003089780550753129\n",
      "Word: organ, Weight: 0.0030491639693668486\n",
      "Word: endangered, Weight: 0.003043761168956212\n",
      "Word: money, Weight: 0.003035341553960378\n",
      "Word: inhumane, Weight: 0.0030161304062813555\n",
      "Word: extinction, Weight: 0.0029788972203890875\n",
      "Word: prostitution, Weight: 0.0029419125100155286\n",
      "Word: missionary, Weight: 0.002929653590404654\n",
      "Word: uniform, Weight: 0.0029038661612248045\n",
      "Word: subsidize, Weight: 0.0028961406224148846\n",
      "Word: safe, Weight: 0.00287701889358014\n",
      "Word: extinct, Weight: 0.0028688926573358594\n",
      "Word: believe, Weight: 0.002847006085446008\n",
      "Word: annoying, Weight: 0.00283577968827948\n",
      "Word: nature, Weight: 0.002823039914411333\n",
      "Word: offended, Weight: 0.00281326885888893\n",
      "Word: belief, Weight: 0.0027910312270979392\n",
      "Word: childhood, Weight: 0.0027268262030376656\n",
      "Word: planet, Weight: 0.0027217311496546864\n"
     ]
    }
   ],
   "source": [
    "# Get the word weights\n",
    "word_weights = important_words(classifier_expanded[0], classifier_expanded[1], classifier_expanded[5])"
   ]
  },
  {
   "cell_type": "code",
   "execution_count": 28,
   "id": "2b772c0f-4bff-41b7-b8b5-c46ad7f100f1",
   "metadata": {},
   "outputs": [
    {
     "name": "stdout",
     "output_type": "stream",
     "text": [
      "Added word: vegetarian, Weight: 0.00533274317160781\n",
      "Added word: christian, Weight: 0.0037244873669404835\n",
      "Added word: libertarian, Weight: 0.0025435507753126937\n",
      "Added word: feminist, Weight: 0.00236920631169269\n",
      "Added word: conservative, Weight: 0.0017814211894955126\n",
      "Added word: terrorist, Weight: 0.0016655437801078878\n",
      "Added word: coward, Weight: 0.001446825874106016\n",
      "Added word: turkey, Weight: 0.0013834426712676135\n",
      "Added word: democrat, Weight: 0.0013307336711560263\n",
      "Added word: scientist, Weight: 0.0013302784904286372\n",
      "Added word: republican, Weight: 0.0012956303164335114\n",
      "Added word: hacker, Weight: 0.001053231137939092\n",
      "Added word: linguist, Weight: 0.0010502025620252376\n",
      "Added word: muslim, Weight: 0.0010480502340549363\n",
      "Added word: socialist, Weight: 0.0010146254760408507\n",
      "Added word: doctor, Weight: 0.0010022990887512922\n",
      "Added word: robot, Weight: 0.0009607413273409323\n",
      "Added word: farmer, Weight: 0.0008350247920966064\n",
      "Added word: patriot, Weight: 0.0006175356183444002\n",
      "Added word: racist, Weight: 0.0005463920813038066\n",
      "Added word: psychologist, Weight: 0.0004823209427036666\n",
      "Added word: survivor, Weight: 0.00046398770798049505\n",
      "Added word: father, Weight: 0.0004322527178155079\n"
     ]
    },
    {
     "data": {
      "image/png": "[encoded data removed]",
      "text/plain": [
       "<Figure size 640x480 with 1 Axes>"
      ]
     },
     "metadata": {},
     "output_type": "display_data"
    }
   ],
   "source": [
    "# Print and plot the word weights\n",
    "print_and_plot_word_weights(word_weights)"
   ]
  },
  {
   "cell_type": "code",
   "execution_count": 29,
   "id": "7e0bac90-ef4c-4097-bcb3-f64d464c5992",
   "metadata": {},
   "outputs": [
    {
     "name": "stdout",
     "output_type": "stream",
     "text": [
      "F1 Score: 0.2381289783256788\n",
      "Precision: 0.44416243654822335\n",
      "Recall: 0.17505665337200868\n"
     ]
    }
   ],
   "source": [
    "classifier_expanded_adj = classification(\"HVD-expanded_dataset_test.tsv\", \"HVD-expanded_dataset_training.tsv\", [\"EXPANDED TEXT ADJECTIVES\"])"
   ]
  },
  {
   "cell_type": "code",
   "execution_count": 30,
   "id": "20514036-6b12-423e-a422-62b5356a8dcf",
   "metadata": {},
   "outputs": [],
   "source": [
    "f1_expanded_adj = classifier_expanded_adj[2]\n",
    "precision_expanded_adj = classifier_expanded_adj[3]\n",
    "recall_expanded_adj = classifier_expanded_adj[4]"
   ]
  },
  {
   "cell_type": "code",
   "execution_count": 31,
   "id": "c854cd7c-de66-4158-8d59-2873a07d771a",
   "metadata": {
    "scrolled": true
   },
   "outputs": [
    {
     "name": "stdout",
     "output_type": "stream",
     "text": [
      "Word: zoo, Weight: 0.010503140164856399\n",
      "Word: animal, Weight: 0.008687804088384592\n",
      "Word: telemarketing, Weight: 0.007321709250143804\n",
      "Word: language, Weight: 0.007228904439939153\n",
      "Word: genderneutral, Weight: 0.007150246903423868\n",
      "Word: surgery, Weight: 0.006728677536348465\n",
      "Word: whaling, Weight: 0.006433265561769072\n",
      "Word: cosmetic, Weight: 0.006426472383936085\n",
      "Word: trading, Weight: 0.006129982978602967\n",
      "Word: prayer, Weight: 0.006000740917759174\n",
      "Word: algorithmic, Weight: 0.005725762679932139\n",
      "Word: executive, Weight: 0.00561043353733129\n",
      "Word: nuclear, Weight: 0.005269796384057778\n",
      "Word: cannabis, Weight: 0.005267796637978368\n",
      "Word: farming, Weight: 0.0052166147265031645\n",
      "Word: factory, Weight: 0.005123558442727072\n",
      "Word: compensation, Weight: 0.005122257169010719\n",
      "Word: weapon, Weight: 0.005066850570954179\n",
      "Word: retirement, Weight: 0.0050418498134591075\n",
      "Word: religion, Weight: 0.004960596439474621\n",
      "Word: fast, Weight: 0.004925742003806125\n",
      "Word: parade, Weight: 0.0048980584733602645\n",
      "Word: austerity, Weight: 0.004811407595476358\n",
      "Word: killing, Weight: 0.004705529844996249\n",
      "Word: targeted, Weight: 0.004682691246463918\n",
      "Word: pride, Weight: 0.00454623266979024\n",
      "Word: regime, Weight: 0.004520919334976059\n",
      "Word: voting, Weight: 0.00449661623644838\n",
      "Word: property, Weight: 0.004443633354330919\n",
      "Word: intellectual, Weight: 0.0044283619428656055\n",
      "Word: whale, Weight: 0.004419412664741612\n",
      "Word: mandatory, Weight: 0.004417058997775686\n",
      "Word: atheism, Weight: 0.004407543586835124\n",
      "Word: specie, Weight: 0.004395033907232551\n",
      "Word: prohibit, Weight: 0.004378331048070847\n",
      "Word: compulsory, Weight: 0.00428347873536265\n",
      "Word: selection, Weight: 0.004268654330990265\n",
      "Word: food, Weight: 0.004242589263630735\n",
      "Word: cruel, Weight: 0.00423786115430686\n",
      "Word: military, Weight: 0.0041891485895072505\n",
      "Word: church, Weight: 0.004188064886679531\n",
      "Word: sanction, Weight: 0.004167937541533632\n",
      "Word: game, Weight: 0.004001433103316803\n",
      "Word: olympic, Weight: 0.0039423308527087985\n",
      "Word: economic, Weight: 0.003924286748242409\n",
      "Word: law, Weight: 0.0039059534772539423\n",
      "Word: exploration, Weight: 0.0038524061367498086\n",
      "Word: journalism, Weight: 0.0038475407580461176\n",
      "Word: abolition, Weight: 0.0038265705175097716\n",
      "Word: wikipedia, Weight: 0.003794992023028678\n",
      "Word: threestrikes, Weight: 0.0037813448279515986\n",
      "Word: scientology, Weight: 0.003779153269903186\n",
      "Word: bear, Weight: 0.0037735995092673265\n",
      "Word: arm, Weight: 0.003765116043399201\n",
      "Word: punishment, Weight: 0.003745136909646505\n",
      "Word: gender, Weight: 0.0037405377589682944\n",
      "Word: actor, Weight: 0.0036358551141384213\n",
      "Word: loan, Weight: 0.0036153333045821643\n",
      "Word: multiparty, Weight: 0.003606671841873418\n",
      "Word: capital, Weight: 0.0035984294393472797\n",
      "Word: freedom, Weight: 0.003594260399438029\n",
      "Word: cancel, Weight: 0.0035805124063502426\n",
      "Word: minor, Weight: 0.003555676818077345\n",
      "Word: fight, Weight: 0.003549191668746444\n",
      "Word: introduce, Weight: 0.003536777469950305\n",
      "Word: school, Weight: 0.0034889645782237057\n",
      "Word: crime, Weight: 0.0034670417794701695\n",
      "Word: sex, Weight: 0.003425683768518693\n",
      "Word: company, Weight: 0.003287194987260099\n",
      "Word: judicial, Weight: 0.0032851768309066246\n",
      "Word: natural, Weight: 0.0032661771115943495\n",
      "Word: nuisance, Weight: 0.0032658808248633557\n",
      "Word: wild, Weight: 0.0032546614568323045\n",
      "Word: god, Weight: 0.0032538912617527697\n",
      "Word: cloning, Weight: 0.0032180078651388227\n",
      "Word: call, Weight: 0.0032151489865931116\n",
      "Word: activism, Weight: 0.0031883632206603603\n",
      "Word: child, Weight: 0.003113945110721149\n",
      "Word: system, Weight: 0.003100939453416776\n",
      "Word: private, Weight: 0.0030897805508028143\n",
      "Word: organ, Weight: 0.003049163969375002\n",
      "Word: endangered, Weight: 0.0030437611689548153\n",
      "Word: money, Weight: 0.003035341553964452\n",
      "Word: inhumane, Weight: 0.0030161304062824774\n",
      "Word: extinction, Weight: 0.0029788972203881\n",
      "Word: prostitution, Weight: 0.0029419125100758094\n",
      "Word: missionary, Weight: 0.0029296535902593344\n",
      "Word: uniform, Weight: 0.0029038661612564775\n",
      "Word: subsidize, Weight: 0.0028961406224203927\n",
      "Word: safe, Weight: 0.0028770188934775123\n",
      "Word: extinct, Weight: 0.002868892657335965\n",
      "Word: believe, Weight: 0.0028470060853690235\n",
      "Word: annoying, Weight: 0.002835779688279063\n",
      "Word: nature, Weight: 0.0028230399143862614\n",
      "Word: offended, Weight: 0.0028132688588878665\n",
      "Word: belief, Weight: 0.0027910312269952735\n",
      "Word: childhood, Weight: 0.0027268262030372935\n",
      "Word: planet, Weight: 0.0027217311496582288\n",
      "Word: habitat, Weight: 0.0027122730878643858\n",
      "Word: intrusive, Weight: 0.0027090802666595104\n"
     ]
    }
   ],
   "source": [
    "word_weights_adj = important_words(classifier_expanded_adj[0], classifier_expanded_adj[1], classifier_expanded_adj[5])"
   ]
  },
  {
   "cell_type": "code",
   "execution_count": 32,
   "id": "5dac143f-9b8a-4e6a-87fb-e83756a0e5a7",
   "metadata": {},
   "outputs": [
    {
     "name": "stdout",
     "output_type": "stream",
     "text": [
      "Added word: anarchist, Weight: 0.0021188495502459308\n",
      "Added word: democrat, Weight: 0.0011766575354596027\n",
      "Added word: libertarian, Weight: 0.001001847654114373\n",
      "Added word: socialist, Weight: 0.0009158162066079629\n",
      "Added word: capitalist, Weight: 0.0008487124399662781\n",
      "Added word: centrist, Weight: 0.0005979760267660575\n",
      "Added word: communist, Weight: 0.0003986523825006163\n",
      "Added word: conservative, Weight: 0.0003205664063068745\n",
      "Added word: liberal, Weight: 9.171759365470468e-05\n",
      "Added word: republican, Weight: 8.497221189021468e-05\n"
     ]
    },
    {
     "data": {
      "image/png": "[encoded data removed]",
      "text/plain": [
       "<Figure size 640x480 with 1 Axes>"
      ]
     },
     "metadata": {},
     "output_type": "display_data"
    }
   ],
   "source": [
    "# Print and plot the word weights\n",
    "print_and_plot_word_weights(word_weights_adj)"
   ]
  },
  {
   "cell_type": "code",
   "execution_count": 33,
   "id": "9beefd66-ee4c-49f7-a940-f9a97dc31854",
   "metadata": {},
   "outputs": [
    {
     "data": {
      "image/png": "[encoded data removed]",
      "text/plain": [
       "<Figure size 600x400 with 1 Axes>"
      ]
     },
     "metadata": {},
     "output_type": "display_data"
    }
   ],
   "source": [
    "models = ['Original dataset', 'Free approach', 'Guided approach']\n",
    "precision_vals = [precision_original, precision_expanded, precision_expanded_adj]\n",
    "recall_vals = [recall_original, recall_expanded, recall_expanded_adj]\n",
    "f1_vals = [f1_original, f1_expanded, f1_expanded_adj]\n",
    "\n",
    "# Getting the x locations for the groups\n",
    "x = np.arange(len(models)) \n",
    "width = 0.3\n",
    "\n",
    "fig, ax = plt.subplots(figsize=(6, 4))\n",
    "bar_width = 0.35\n",
    "opacity = 0.8\n",
    "\n",
    "rects1 = ax.bar(x - width, precision_vals, width, label='Precision')\n",
    "rects2 = ax.bar(x, recall_vals, width, label='Recall')\n",
    "rects3 = ax.bar(x + width, f1_vals, width, label='F1 Score')\n",
    "\n",
    "# Add some text for labels, title and custom x-axis tick labels, etc.\n",
    "ax.set_xlabel('Models')\n",
    "ax.set_ylabel('Scores')\n",
    "ax.set_title('Scores by model')\n",
    "ax.set_xticks(x)\n",
    "ax.set_xticklabels(models)\n",
    "ax.legend()\n",
    "\n",
    "plt.tight_layout()\n",
    "plt.show()"
   ]
  },
  {
   "cell_type": "code",
   "execution_count": null,
   "id": "de9475e3-48c5-4742-a61c-fb0163dff934",
   "metadata": {},
   "outputs": [],
   "source": []
  },
  {
   "cell_type": "code",
   "execution_count": null,
   "id": "4acc830f-8efb-4f58-b00a-8821e55160fe",
   "metadata": {},
   "outputs": [],
   "source": []
  }
 ],
 "metadata": {
  "kernelspec": {
   "display_name": "Python 3 (ipykernel)",
   "language": "python",
   "name": "python3"
  },
  "language_info": {
   "codemirror_mode": {
    "name": "ipython",
    "version": 3
   },
   "file_extension": ".py",
   "mimetype": "text/x-python",
   "name": "python",
   "nbconvert_exporter": "python",
   "pygments_lexer": "ipython3",
   "version": "3.12.2"
  }
 },
 "nbformat": 4,
 "nbformat_minor": 5
}
